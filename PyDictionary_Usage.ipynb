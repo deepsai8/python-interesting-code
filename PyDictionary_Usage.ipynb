{
 "cells": [
  {
   "cell_type": "code",
   "execution_count": 8,
   "metadata": {},
   "outputs": [],
   "source": [
    "from PyDictionary import PyDictionary\n",
    "from difflib import get_close_matches"
   ]
  },
  {
   "cell_type": "code",
   "execution_count": 2,
   "metadata": {},
   "outputs": [],
   "source": [
    "dictionary=PyDictionary()"
   ]
  },
  {
   "cell_type": "code",
   "execution_count": 3,
   "metadata": {},
   "outputs": [],
   "source": [
    "#load json data\n",
    "\n",
    "data = json.load(open(\"data.json\"))"
   ]
  },
  {
   "cell_type": "code",
   "execution_count": 8,
   "metadata": {},
   "outputs": [],
   "source": [
    "#function to return meaning of a word\n",
    "\n",
    "def getmeaning(w):\n",
    "    w = w.lower()\n",
    "    if w in data:\n",
    "        return data[w]\n",
    "    else:\n",
    "        return \"Word doesn't exist, please check again\""
   ]
  },
  {
   "cell_type": "code",
   "execution_count": 33,
   "metadata": {},
   "outputs": [
    {
     "name": "stdout",
     "output_type": "stream",
     "text": [
      "Enter word: swiss\n",
      "Meaning:  {'Noun': ['the natives or inhabitants of Switzerland'], 'Adjective': ['of or relating to Switzerland or its people or culture']}\n"
     ]
    }
   ],
   "source": [
    "word = input('Enter word: ')\n",
    "\n",
    "#get meaning using the function\n",
    "meaning = dictionary.meaning(word)\n",
    "\n",
    "print(\"Meaning: \", meaning)"
   ]
  },
  {
   "cell_type": "code",
   "execution_count": 38,
   "metadata": {},
   "outputs": [],
   "source": [
    "dictionary2 = PyDictionary(\"exclusive\",\"precipitation\")"
   ]
  },
  {
   "cell_type": "code",
   "execution_count": 49,
   "metadata": {},
   "outputs": [
    {
     "name": "stdout",
     "output_type": "stream",
     "text": [
      "Exclusive:\n",
      "Noun:\n",
      "a news report that is reported first by one news organization\n",
      "Adjective:\n",
      "not divided or shared with others\n",
      "excluding much or all; especially all but a particular group or minority\n",
      "not divided among or brought to bear on more than one object or objective\n",
      "Precipitation:\n",
      "Noun:\n",
      "the quantity of water falling to earth at a specific place within a specified period of time\n",
      "the process of forming a chemical precipitate\n",
      "the falling to earth of any form of water (rain or snow or hail or sleet or mist\n",
      "the act of casting down or falling headlong from a height\n",
      "an unexpected acceleration or hastening\n",
      "overly eager speed (and possible carelessness\n",
      "None\n"
     ]
    }
   ],
   "source": [
    "print(dictionary2.printMeanings())"
   ]
  },
  {
   "cell_type": "code",
   "execution_count": null,
   "metadata": {},
   "outputs": [],
   "source": []
  }
 ],
 "metadata": {
  "kernelspec": {
   "display_name": "Python 3",
   "language": "python",
   "name": "python3"
  },
  "language_info": {
   "codemirror_mode": {
    "name": "ipython",
    "version": 3
   },
   "file_extension": ".py",
   "mimetype": "text/x-python",
   "name": "python",
   "nbconvert_exporter": "python",
   "pygments_lexer": "ipython3",
   "version": "3.6.0"
  }
 },
 "nbformat": 4,
 "nbformat_minor": 4
}
